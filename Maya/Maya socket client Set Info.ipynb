{
 "cells": [
  {
   "cell_type": "markdown",
   "metadata": {},
   "source": [
    "# Set"
   ]
  },
  {
   "cell_type": "markdown",
   "metadata": {},
   "source": [
    "## 1. Maya server: run the follow command in the script editor in Maya\n",
    "\n",
    "### open server\n",
    "import maya.cmds as cmds\n",
    "\n",
    "cmds.commandPort(n=\"localhost:12345\")\n",
    "\n",
    "### close server\n",
    "\n",
    "cmds.commandPort(cl=True, n=\"localhost:12345\")\n"
   ]
  },
  {
   "cell_type": "code",
   "execution_count": 1,
   "metadata": {},
   "outputs": [],
   "source": [
    "import socket\n",
    "import numpy as np"
   ]
  },
  {
   "cell_type": "code",
   "execution_count": 2,
   "metadata": {},
   "outputs": [],
   "source": [
    "# connect to Maya server\n",
    "HOST = '127.0.0.1'                 # Symbolic name meaning the local host\n",
    "PORT = 12345              # Arbitrary non-privileged port\n",
    "\n",
    "ADDR=(HOST,PORT)\n",
    "\n",
    "client = socket.socket(socket.AF_INET, socket.SOCK_STREAM)\n",
    "client.connect(ADDR)"
   ]
  },
  {
   "cell_type": "code",
   "execution_count": 3,
   "metadata": {},
   "outputs": [],
   "source": [
    "def SendCommand(command:str):\n",
    "    #client = socket.socket(socket.AF_INET, socket.SOCK_STREAM)\n",
    "    #client.connect(ADDR)\n",
    "    command = command.encode() # the command from external editor to maya\n",
    "\n",
    "    MyMessage = command\n",
    "    client.send(MyMessage)\n",
    "    data = client.recv(1024) #receive the result info\n",
    "    #client.close()\n",
    "    #print(data)\n",
    "    #ret = str(data.decode(encoding=\"ASCII\"))\n",
    "    ret = data.decode(\"utf-8\")\n",
    "    return ret"
   ]
  },
  {
   "cell_type": "code",
   "execution_count": 4,
   "metadata": {},
   "outputs": [],
   "source": [
    "def SetCurrentTimeFrame(timeFrame : int):\n",
    "    send_message = \"currentTime -edit\" + \" \" + str(timeFrame) + \";\"\n",
    "    recv_message = SendCommand(send_message)"
   ]
  },
  {
   "cell_type": "code",
   "execution_count": 6,
   "metadata": {},
   "outputs": [],
   "source": [
    "# # Test one: set time frame\n",
    "SetCurrentTimeFrame(0)"
   ]
  },
  {
   "cell_type": "code",
   "execution_count": 7,
   "metadata": {},
   "outputs": [],
   "source": [
    "def SetObjectWorldTransform(object_name:str, location : list):\n",
    "    '''\n",
    "    Set world absolute location for object with location [x, y, z]\n",
    "    '''\n",
    "    send_message = \"select -replace \" + object_name + \";\"\n",
    "    send_message += \"move -absolute \" + str(location[0]) + \" \" + str(location[1]) + \" \" + str(location[2]) + \";\"\n",
    "    recv_message = SendCommand(send_message)"
   ]
  },
  {
   "cell_type": "code",
   "execution_count": 9,
   "metadata": {},
   "outputs": [],
   "source": [
    "# # Test two: set object location\n",
    "SetObjectWorldTransform(\"Main\",[0,0,0])"
   ]
  },
  {
   "cell_type": "code",
   "execution_count": 10,
   "metadata": {},
   "outputs": [],
   "source": [
    "def SetObjectLocalTransform(object_name:str, location : list):\n",
    "    '''\n",
    "    Set world absolute location for object with location [x,y] or [x, y, z]\n",
    "    '''\n",
    "    send_message = \"select -replace \" + object_name + \";\" + \"move -relative \"\n",
    "    for value in location:\n",
    "        send_message +=  str(value) + \" \"\n",
    "    \n",
    "    send_message += \";\"\n",
    "    recv_message = SendCommand(send_message)"
   ]
  },
  {
   "cell_type": "code",
   "execution_count": 11,
   "metadata": {},
   "outputs": [],
   "source": [
    "# # Test three: set object location transform\n",
    "SetObjectLocalTransform(\"IKLeg_R\", [1,2,2])"
   ]
  },
  {
   "cell_type": "code",
   "execution_count": 12,
   "metadata": {},
   "outputs": [],
   "source": [
    "def SetObjectLocalRotation(object_name:str, rotation : list):\n",
    "    '''\n",
    "    Set world absolute location for object with rotation [x,y] or [x, y, z] in degree\n",
    "    '''\n",
    "    send_message = \"select -replace \" + object_name + \";\" + \"rotate -relative \"\n",
    "    for value in rotation:\n",
    "        send_message +=  str(value) + \"deg \"\n",
    "    \n",
    "    send_message += \";\"\n",
    "    recv_message = SendCommand(send_message)"
   ]
  },
  {
   "cell_type": "code",
   "execution_count": 13,
   "metadata": {},
   "outputs": [],
   "source": [
    "# # Test four: set object location transform\n",
    "# SetObjectLocalRotation(\"FKShoulder_R\", [20,30,40])"
   ]
  },
  {
   "cell_type": "code",
   "execution_count": 14,
   "metadata": {},
   "outputs": [],
   "source": [
    "def SetCurrentKeyFrameForAttribute(object_name : str, attr_name : str):\n",
    "    send_message = \"select -r \" + object_name + \";\"\n",
    "    send_message += \"setKeyframe -at \" + attr_name + \";\"\n",
    "    recv_message = SendCommand(send_message)"
   ]
  },
  {
   "cell_type": "code",
   "execution_count": 15,
   "metadata": {},
   "outputs": [],
   "source": [
    "def SetCurrentKeyFrameForTransformAndRotation(object_name : str):\n",
    "    send_message = \"select -r \" + object_name + \";\"\n",
    "    send_message += \"setKeyframe -at translate;\"\n",
    "    send_message += \"setKeyframe -at rotate;\"\n",
    "    recv_message = SendCommand(send_message)"
   ]
  },
  {
   "cell_type": "code",
   "execution_count": 16,
   "metadata": {},
   "outputs": [],
   "source": [
    "# # Test five: Key Frame\n",
    "# SetCurrentKeyFrameForTransformAndRotation(\"FKElbow_R\")"
   ]
  },
  {
   "cell_type": "code",
   "execution_count": 17,
   "metadata": {},
   "outputs": [],
   "source": [
    "def SetObjectAttribute(object_name : str, attr_name : str, value : float):\n",
    "    send_message = \"setAttr \" + object_name + \".\" + attr_name + \" \" + str(value) + \";\"\n",
    "    recv_message = SendCommand(send_message)"
   ]
  },
  {
   "cell_type": "code",
   "execution_count": 18,
   "metadata": {},
   "outputs": [],
   "source": [
    "# # Test six: set attribute\n",
    "# SetObjectAttribute(\"ctrlEye_L\",\"blink\",5)"
   ]
  },
  {
   "cell_type": "code",
   "execution_count": 19,
   "metadata": {},
   "outputs": [],
   "source": [
    "# Test seven: put together\n",
    "SetCurrentTimeFrame(0)\n",
    "SetCurrentKeyFrameForAttribute(\"ctrlEye_L\", \"blink\")\n",
    "\n",
    "SetCurrentTimeFrame(10)\n",
    "SetObjectAttribute(\"ctrlEye_L\",\"blink\",10)\n",
    "SetCurrentKeyFrameForAttribute(\"ctrlEye_L\", \"blink\")"
   ]
  },
  {
   "cell_type": "markdown",
   "metadata": {},
   "source": [
    "# Set body joint"
   ]
  },
  {
   "cell_type": "code",
   "execution_count": 20,
   "metadata": {},
   "outputs": [],
   "source": [
    "#设置身体关节分为三类：根关节、FK关节和IK关节；根关节需要关注旋转和位置，FK只需要关心旋转，IK只需要关心位置（作为简化）"
   ]
  },
  {
   "cell_type": "code",
   "execution_count": 21,
   "metadata": {},
   "outputs": [],
   "source": [
    "def SetBodyJoint(body_info : dict, keyframe = 0):\n",
    "    SetCurrentTimeFrame(keyframe)\n",
    "    \n",
    "    for key in body_info.keys():\n",
    "        if key == \"Main\":\n",
    "            main_transform = body_info['Main']['world_transform']\n",
    "            SetObjectWorldTransform(\"Main\", main_transform)\n",
    "            local_rotation = body_info['Main']['local_rotation']\n",
    "            SetObjectLocalRotation('Main', local_rotation)\n",
    "            SetCurrentKeyFrameForTransformAndRotation(\"Main\")  \n",
    "        elif key.startswith(\"FK\") or key == \"Neck_M\":\n",
    "            local_rotation = body_info[key]['local_rotation']\n",
    "            SetObjectLocalRotation(key, local_rotation)\n",
    "            SetCurrentKeyFrameForTransformAndRotation(key)\n",
    "        else: #key.startswith(\"IK\")\n",
    "            local_transform = body_info[key]['local_transform']\n",
    "            SetObjectLocalTransform(key, local_transform)\n",
    "            SetCurrentKeyFrameForTransformAndRotation(key)\n",
    "            \n",
    "    print(\"Done!Body joints at frame \" + str(keyframe))\n",
    "    "
   ]
  },
  {
   "cell_type": "code",
   "execution_count": 22,
   "metadata": {},
   "outputs": [],
   "source": [
    "body_info = {'Main': {'world_transform': [1.0, 1.0, 1.0],\n",
    "  'local_transform': [0.0, 0.0, 0.0],\n",
    "  'local_rotation': [0.0, 0.0, 0.0]},\n",
    " 'FKRoot_M': {'world_transform': [0.0, 9.83, -0.18],\n",
    "  'local_transform': [0.0, 0.0, 0.0],\n",
    "  'local_rotation': [0.0, 0.0, 0.0]},\n",
    " 'FKSpine1_M': {'world_transform': [-0.0, 11.57, -0.42],\n",
    "  'local_transform': [0.0, 0.0, 0.0],\n",
    "  'local_rotation': [0.0, 0.0, -0.55]},\n",
    " 'FKChest_M': {'world_transform': [-0.0, 14.28, -0.56],\n",
    "  'local_transform': [0.0, 0.0, 0.0],\n",
    "  'local_rotation': [0.0, 0.0, 0.0]},\n",
    " 'Neck_M': {'world_transform': [0.0, 16.63, -1.13],\n",
    "  'local_transform': [2.42, 0.0, 0.0],\n",
    "  'local_rotation': [0.0, 0.0, -0.0]},\n",
    " 'FKShoulder_R': {'world_transform': [-2.24, 14.92, -0.98],\n",
    "  'local_transform': [0.0, 0.0, 0.0],\n",
    "  'local_rotation': [20, 30, 40]},\n",
    " 'FKShoulder_L': {'world_transform': [2.24, 14.92, -0.98],\n",
    "  'local_transform': [0.0, 0.0, 0.0],\n",
    "  'local_rotation': [0.0, 0.0, 0.0]},\n",
    " 'FKElbow_R': {'world_transform': [-5.21, 14.75, -1.09],\n",
    "  'local_transform': [0.0, 0.0, 0.0],\n",
    "  'local_rotation': [0.0, 0.0, 0.0]},\n",
    " 'FKElbow_L': {'world_transform': [5.21, 14.75, -1.09],\n",
    "  'local_transform': [0.0, 0.0, 0.0],\n",
    "  'local_rotation': [0.0, 0.0, 0.0]},\n",
    " 'FKWrist_R': {'world_transform': [-8.28, 14.74, -0.76],\n",
    "  'local_transform': [0.0, 0.0, 0.0],\n",
    "  'local_rotation': [0.0, 0.0, 0.0]},\n",
    " 'FKWrist_L': {'world_transform': [8.28, 14.74, -0.76],\n",
    "  'local_transform': [0.0, 0.0, 0.0],\n",
    "  'local_rotation': [0.0, 0.0, 0.0]},\n",
    " 'IKLeg_R': {'world_transform': [-1.47, 1.2, -0.71],\n",
    "  'local_transform': [0.0, 0.0, 0.0],\n",
    "  'local_rotation': [0.0, 0.0, 0.0]},\n",
    " 'IKLeg_L': {'world_transform': [1.47, 1.2, -0.71],\n",
    "  'local_transform': [1, 2, 0.0],\n",
    "  'local_rotation': [0, 0, 0.0]}}"
   ]
  },
  {
   "cell_type": "code",
   "execution_count": 23,
   "metadata": {},
   "outputs": [
    {
     "name": "stdout",
     "output_type": "stream",
     "text": [
      "Done!Body joints at frame 0\n"
     ]
    }
   ],
   "source": [
    "SetBodyJoint(body_info)"
   ]
  },
  {
   "cell_type": "markdown",
   "metadata": {},
   "source": [
    "# Set Finger Curl"
   ]
  },
  {
   "cell_type": "code",
   "execution_count": 24,
   "metadata": {},
   "outputs": [],
   "source": [
    "def SetFingerCurl(finger_info : dict, keyframe = 0):\n",
    "    SetCurrentTimeFrame(keyframe)\n",
    "    \n",
    "    fingers = [\"thumb\", \"index\", \"middle\", \"ring\", \"pinky\"]\n",
    "    for finger in fingers:\n",
    "        SetObjectAttribute(\"Fingers_R\", finger + \"Curl\", finger_info[\"right_fingers\"][finger + \"_curl\"][0])\n",
    "        SetCurrentKeyFrameForAttribute(\"Fingers_R\", finger + \"Curl\")\n",
    "        SetObjectAttribute(\"Fingers_L\", finger + \"Curl\", finger_info[\"left_fingers\"][finger + \"_curl\"][0])\n",
    "        SetCurrentKeyFrameForAttribute(\"Fingers_L\", finger + \"Curl\")\n",
    "            \n",
    "    print(\"Done!Fingers at frame \" + str(keyframe))\n",
    "    "
   ]
  },
  {
   "cell_type": "code",
   "execution_count": 25,
   "metadata": {},
   "outputs": [],
   "source": [
    "finger_info = {'right_fingers': {'thumb_curl': [0.0],\n",
    "  'index_curl': [2.0],\n",
    "  'middle_curl': [3.0],\n",
    "  'ring_curl': [4.0],\n",
    "  'pinky_curl': [0.0]},\n",
    " 'left_fingers': {'thumb_curl': [0.0],\n",
    "  'index_curl': [-1.0],\n",
    "  'middle_curl': [0.0],\n",
    "  'ring_curl': [-3.0],\n",
    "  'pinky_curl': [0.0]}}"
   ]
  },
  {
   "cell_type": "code",
   "execution_count": 26,
   "metadata": {},
   "outputs": [
    {
     "name": "stdout",
     "output_type": "stream",
     "text": [
      "Done!Fingers at frame 0\n"
     ]
    }
   ],
   "source": [
    "SetFingerCurl(finger_info)"
   ]
  },
  {
   "cell_type": "markdown",
   "metadata": {},
   "source": [
    "# Set Face"
   ]
  },
  {
   "cell_type": "code",
   "execution_count": 27,
   "metadata": {},
   "outputs": [],
   "source": [
    "def SetFace(face_info : dict, keyframe = 0):\n",
    "    SetCurrentTimeFrame(keyframe)\n",
    "    \n",
    "    #eye brow\n",
    "    eye_brow_info = face_info['eye_brow']\n",
    "    \n",
    "    SetObjectAttribute(\"ctrlBrow_R\", \"translateX\", eye_brow_info[\"eyebrow_r_x\"][0])\n",
    "    SetCurrentKeyFrameForAttribute(\"ctrlBrow_R\", \"translateX\")\n",
    "    \n",
    "    SetObjectAttribute(\"ctrlBrow_R\", \"translateY\", eye_brow_info[\"eyebrow_r_y\"][0])\n",
    "    SetCurrentKeyFrameForAttribute(\"ctrlBrow_R\", \"translateY\")\n",
    "    \n",
    "    \n",
    "    SetObjectAttribute(\"ctrlBrow_L\", \"translateX\", eye_brow_info[\"eyebrow_l_x\"][0])\n",
    "    SetCurrentKeyFrameForAttribute(\"ctrlBrow_L\", \"translateX\")\n",
    "    \n",
    "    SetObjectAttribute(\"ctrlBrow_R\", \"translateY\", eye_brow_info[\"eyebrow_l_y\"][0])\n",
    "    SetCurrentKeyFrameForAttribute(\"ctrlBrow_L\", \"translateY\")\n",
    "    \n",
    "    #eye\n",
    "    eye_info = face_info['eye']\n",
    "    \n",
    "    SetObjectAttribute(\"ctrlEye_R\", \"translateX\", eye_info[\"eye_r_x\"][0])\n",
    "    SetCurrentKeyFrameForAttribute(\"ctrlEye_R\", \"translateX\")\n",
    "    \n",
    "    SetObjectAttribute(\"ctrlEye_R\", \"translateY\", eye_info[\"eye_r_y\"][0])\n",
    "    SetCurrentKeyFrameForAttribute(\"ctrlEye_R\", \"translateY\")\n",
    "    \n",
    "    SetObjectAttribute(\"ctrlEye_R\", \"blink\", eye_info[\"eye_r_blink\"][0])\n",
    "    SetCurrentKeyFrameForAttribute(\"ctrlEye_R\", \"blink\")\n",
    "    \n",
    "    \n",
    "    SetObjectAttribute(\"ctrlEye_L\", \"translateX\", eye_info[\"eye_l_x\"][0])\n",
    "    SetCurrentKeyFrameForAttribute(\"ctrlEye_L\", \"translateX\")\n",
    "    \n",
    "    SetObjectAttribute(\"ctrlEye_L\", \"translateY\", eye_info[\"eye_l_y\"][0])\n",
    "    SetCurrentKeyFrameForAttribute(\"ctrlEye_L\", \"translateY\")\n",
    "    \n",
    "    SetObjectAttribute(\"ctrlEye_L\", \"blink\", eye_info[\"eye_l_blink\"][0])\n",
    "    SetCurrentKeyFrameForAttribute(\"ctrlEye_L\", \"blink\")\n",
    "    \n",
    "    #mouth\n",
    "    mouth_info = face_info['mouth']\n",
    "    \n",
    "    SetObjectAttribute(\"ctrlMouth_M\", \"translateX\", mouth_info[\"mouth_x\"][0])\n",
    "    SetCurrentKeyFrameForAttribute(\"ctrlMouth_M\", \"translateX\")\n",
    "\n",
    "    SetObjectAttribute(\"ctrlMouth_M\", \"translateY\", mouth_info[\"mouth_y\"][0])\n",
    "    SetCurrentKeyFrameForAttribute(\"ctrlMouth_M\", \"translateY\")\n",
    "    \n",
    "    #mouth corner\n",
    "    mouth_corner_info = face_info['mouth_corner']\n",
    "    \n",
    "    SetObjectAttribute(\"ctrlMouthCorner_L\", \"translateY\", mouth_corner_info[\"mouth_corner_L\"][0])\n",
    "    SetCurrentKeyFrameForAttribute(\"ctrlMouthCorner_L\", \"translateY\")\n",
    "\n",
    "    SetObjectAttribute(\"ctrlMouthCorner_R\", \"translateY\", mouth_corner_info[\"mouth_corner_R\"][0])\n",
    "    SetCurrentKeyFrameForAttribute(\"ctrlMouthCorner_R\", \"translateY\")\n",
    "    \n",
    "    print(\"Done!Face at frame \" + str(keyframe))"
   ]
  },
  {
   "cell_type": "code",
   "execution_count": 28,
   "metadata": {},
   "outputs": [],
   "source": [
    "face_info_frame_0 = {'eye_brow': {'eyebrow_r_x': [0.0],\n",
    "  'eyebrow_r_y': [0.0],\n",
    "  'eyebrow_l_x': [0.0],\n",
    "  'eyebrow_l_y': [0.0]},\n",
    " 'eye': {'eye_r_x': [0.0],\n",
    "  'eye_r_y': [0.0],\n",
    "  'eye_r_blink': [0.0],\n",
    "  'eye_l_x': [0.0],\n",
    "  'eye_l_y': [0.0],\n",
    "  'eye_l_blink': [0.0]},\n",
    " 'mouth': {'mouth_x': [0.0], 'mouth_y': [0.0]},\n",
    " 'mouth_corner': {'mouth_corner_L': [0.0], 'mouth_corner_R': [0.0]}}"
   ]
  },
  {
   "cell_type": "code",
   "execution_count": 29,
   "metadata": {},
   "outputs": [
    {
     "name": "stdout",
     "output_type": "stream",
     "text": [
      "Done!Face at frame 0\n"
     ]
    }
   ],
   "source": [
    "SetFace(face_info_frame_0, 0)"
   ]
  },
  {
   "cell_type": "code",
   "execution_count": 30,
   "metadata": {},
   "outputs": [],
   "source": [
    "face_info_frame_10 = {'eye_brow': {'eyebrow_r_x': [0.3],\n",
    "  'eyebrow_r_y': [0.0],\n",
    "  'eyebrow_l_x': [0.2],\n",
    "  'eyebrow_l_y': [0.0]},\n",
    " 'eye': {'eye_r_x': [0.0],\n",
    "  'eye_r_y': [0.0],\n",
    "  'eye_r_blink': [3],\n",
    "  'eye_l_x': [0.0],\n",
    "  'eye_l_y': [0.0],\n",
    "  'eye_l_blink': [0.0]},\n",
    " 'mouth': {'mouth_x': [0.2], 'mouth_y': [-0.5]},\n",
    " 'mouth_corner': {'mouth_corner_L': [0.2], 'mouth_corner_R': [0.0]}}"
   ]
  },
  {
   "cell_type": "code",
   "execution_count": 31,
   "metadata": {},
   "outputs": [
    {
     "name": "stdout",
     "output_type": "stream",
     "text": [
      "Done!Face at frame 10\n"
     ]
    }
   ],
   "source": [
    "SetFace(face_info_frame_10, 10)"
   ]
  },
  {
   "cell_type": "code",
   "execution_count": null,
   "metadata": {},
   "outputs": [],
   "source": [
    "# Now you can see a animation for face change in Maya"
   ]
  },
  {
   "cell_type": "code",
   "execution_count": null,
   "metadata": {},
   "outputs": [],
   "source": []
  }
 ],
 "metadata": {
  "kernelspec": {
   "display_name": "Python 3",
   "language": "python",
   "name": "python3"
  },
  "language_info": {
   "codemirror_mode": {
    "name": "ipython",
    "version": 3
   },
   "file_extension": ".py",
   "mimetype": "text/x-python",
   "name": "python",
   "nbconvert_exporter": "python",
   "pygments_lexer": "ipython3",
   "version": "3.7.6"
  }
 },
 "nbformat": 4,
 "nbformat_minor": 4
}
